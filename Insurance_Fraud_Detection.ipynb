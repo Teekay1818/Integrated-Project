{
 "cells": [
  {
   "cell_type": "markdown",
   "id": "5bd2e14c",
   "metadata": {},
   "source": [
    "\n",
    "# Insurance Claims Fraud Detection\n",
    "\n",
    "This notebook outlines the steps for building a machine learning model to detect fraudulent insurance claims.\n",
    "\n",
    "## Steps Involved:\n",
    "\n",
    "1. **Data Preprocessing**: Cleaning and preparing the data for modeling.\n",
    "2. **Feature Engineering**: Creating new features that can help in the fraud detection.\n",
    "3. **Model Building**: Using different machine learning algorithms to build predictive models.\n",
    "4. **Model Evaluation**: Evaluating the models to find the best performer.\n",
    "5. **Hyperparameter Tuning**: Fine-tuning the models for optimal performance.\n",
    "6. **Handling Imbalanced Data**: Using techniques like SMOTE or class weight adjustments.\n"
   ]
  },
  {
   "cell_type": "code",
   "execution_count": 1,
   "id": "e0cfb4f7",
   "metadata": {},
   "outputs": [],
   "source": [
    "\n",
    "import pandas as pd\n",
    "from sklearn.model_selection import train_test_split\n",
    "from sklearn.preprocessing import LabelEncoder\n",
    "\n",
    "# Load the dataset\n",
    "data = pd.read_csv(\"C:/Users/THembinkosi.Mkhize/Downloads/Explore Data Science course/Integrated Project/Modified_All_Dates_Advanced_Features_Claims_Data.csv\")\n",
    "# Handle missing values (if any)\n",
    "# data.fillna(method='ffill', inplace=True)\n",
    "\n",
    "# Encode categorical variables\n",
    "label_encoders = {}\n",
    "categorical_columns = data.select_dtypes(include=['object']).columns\n",
    "for column in categorical_columns:\n",
    "    label_encoders[column] = LabelEncoder()\n",
    "    data[column] = label_encoders[column].fit_transform(data[column])\n",
    "\n",
    "# Split the data into training and testing sets\n",
    "X = data.drop('fraud_reported', axis=1)\n",
    "y = data['fraud_reported']\n",
    "X_train, X_test, y_train, y_test = train_test_split(X, y, test_size=0.3, random_state=42)\n",
    "\n",
    "\n"
   ]
  },
  {
   "cell_type": "code",
   "execution_count": 2,
   "id": "dda5a771",
   "metadata": {},
   "outputs": [],
   "source": [
    "\n",
    "# You can use various feature selection techniques here\n",
    "# For simplicity, we will use all features for this example\n",
    "selected_features = X_train.columns\n",
    "\n"
   ]
  },
  {
   "cell_type": "code",
   "execution_count": 3,
   "id": "22d64518",
   "metadata": {},
   "outputs": [
    {
     "data": {
      "text/plain": [
       "RandomForestClassifier(random_state=42)"
      ]
     },
     "execution_count": 3,
     "metadata": {},
     "output_type": "execute_result"
    }
   ],
   "source": [
    "from sklearn.ensemble import RandomForestClassifier\n",
    "\n",
    "# Initialize the model\n",
    "model = RandomForestClassifier(random_state=42)\n",
    "\n",
    "# Train the model\n",
    "model.fit(X_train[selected_features], y_train)\n"
   ]
  },
  {
   "cell_type": "code",
   "execution_count": 4,
   "id": "a0339e48",
   "metadata": {},
   "outputs": [
    {
     "name": "stdout",
     "output_type": "stream",
     "text": [
      "[[206  14]\n",
      " [ 61  19]]\n",
      "              precision    recall  f1-score   support\n",
      "\n",
      "           0       0.77      0.94      0.85       220\n",
      "           1       0.58      0.24      0.34        80\n",
      "\n",
      "    accuracy                           0.75       300\n",
      "   macro avg       0.67      0.59      0.59       300\n",
      "weighted avg       0.72      0.75      0.71       300\n",
      "\n"
     ]
    }
   ],
   "source": [
    "from sklearn.metrics import classification_report, confusion_matrix\n",
    "\n",
    "# Make predictions\n",
    "y_pred = model.predict(X_test[selected_features])\n",
    "\n",
    "# Evaluate the model\n",
    "print(confusion_matrix(y_test, y_pred))\n",
    "print(classification_report(y_test, y_pred))\n"
   ]
  },
  {
   "cell_type": "code",
   "execution_count": 6,
   "id": "1f5338d1",
   "metadata": {},
   "outputs": [
    {
     "data": {
      "text/plain": [
       "0    753\n",
       "1    247\n",
       "Name: fraud_reported, dtype: int64"
      ]
     },
     "execution_count": 6,
     "metadata": {},
     "output_type": "execute_result"
    }
   ],
   "source": [
    "\n",
    "# Checking the distribution of values in the 'fraud_reported' column\n",
    "fraud_reported_distribution = data['fraud_reported'].value_counts()\n",
    "fraud_reported_distribution\n"
   ]
  },
  {
   "cell_type": "code",
   "execution_count": 9,
   "id": "5958105d",
   "metadata": {},
   "outputs": [
    {
     "data": {
      "text/plain": [
       "(0    533\n",
       " 1    167\n",
       " Name: fraud_reported, dtype: int64,\n",
       " 0    220\n",
       " 1     80\n",
       " Name: fraud_reported, dtype: int64,\n",
       " {'Random Forest': {'Accuracy': 0.75,\n",
       "   'Report': '              precision    recall  f1-score   support\\n\\n           0       0.77      0.94      0.85       220\\n           1       0.58      0.24      0.34        80\\n\\n    accuracy                           0.75       300\\n   macro avg       0.67      0.59      0.59       300\\nweighted avg       0.72      0.75      0.71       300\\n'},\n",
       "  'Logistic Regression': {'Accuracy': 0.73,\n",
       "   'Report': '              precision    recall  f1-score   support\\n\\n           0       0.73      0.99      0.84       220\\n           1       0.33      0.01      0.02        80\\n\\n    accuracy                           0.73       300\\n   macro avg       0.53      0.50      0.43       300\\nweighted avg       0.63      0.73      0.62       300\\n'},\n",
       "  'Decision Tree': {'Accuracy': 0.7766666666666666,\n",
       "   'Report': '              precision    recall  f1-score   support\\n\\n           0       0.85      0.84      0.85       220\\n           1       0.58      0.60      0.59        80\\n\\n    accuracy                           0.78       300\\n   macro avg       0.72      0.72      0.72       300\\nweighted avg       0.78      0.78      0.78       300\\n'},\n",
       "  'Naive Bayes': {'Accuracy': 0.67,\n",
       "   'Report': '              precision    recall  f1-score   support\\n\\n           0       0.74      0.85      0.79       220\\n           1       0.31      0.19      0.23        80\\n\\n    accuracy                           0.67       300\\n   macro avg       0.52      0.52      0.51       300\\nweighted avg       0.63      0.67      0.64       300\\n'},\n",
       "  'Support Vector Machine': {'Accuracy': 0.73,\n",
       "   'Report': '              precision    recall  f1-score   support\\n\\n           0       0.73      1.00      0.84       220\\n           1       0.00      0.00      0.00        80\\n\\n    accuracy                           0.73       300\\n   macro avg       0.37      0.50      0.42       300\\nweighted avg       0.54      0.73      0.62       300\\n'}})"
      ]
     },
     "execution_count": 9,
     "metadata": {},
     "output_type": "execute_result"
    }
   ],
   "source": [
    "# Correcting the encoding of the target variable\n",
    "y = data['fraud_reported'].replace({'Y': 1, 'N': 0})\n",
    "\n",
    "# Re-splitting the data into training and testing sets\n",
    "X_train, X_test, y_train, y_test = train_test_split(X, y, test_size=0.3, random_state=42)\n",
    "\n",
    "# Re-checking the distribution of y_train and y_test\n",
    "y_train_distribution_corrected = y_train.value_counts()\n",
    "y_test_distribution_corrected = y_test.value_counts()\n",
    "\n",
    "# Re-train and evaluate each model with the corrected target variable\n",
    "corrected_model_performance = {}\n",
    "\n",
    "for name, model in models.items():\n",
    "    # Train the model\n",
    "    model.fit(X_train, y_train)\n",
    "\n",
    "    # Make predictions\n",
    "    y_pred = model.predict(X_test)\n",
    "\n",
    "    # Evaluate the model\n",
    "    accuracy = accuracy_score(y_test, y_pred)\n",
    "    report = classification_report(y_test, y_pred)\n",
    "\n",
    "    # Store performance\n",
    "    corrected_model_performance[name] = {\n",
    "        \"Accuracy\": accuracy,\n",
    "        \"Report\": report\n",
    "    }\n",
    "\n",
    "y_train_distribution_corrected, y_test_distribution_corrected, corrected_model_performance\n",
    "\n"
   ]
  },
  {
   "cell_type": "code",
   "execution_count": null,
   "id": "f6462ed9",
   "metadata": {},
   "outputs": [],
   "source": [
    "Random Forest\n",
    "\n",
    "Accuracy: 75%\n",
    "Classification Report:\n",
    "Precision for class '0' (non-fraud): 77%\n",
    "Recall for class '0': 94%\n",
    "Precision for class '1' (fraud): 58%\n",
    "Recall for class '1': 24%\n",
    "Logistic Regression\n",
    "\n",
    "Accuracy: 73%\n",
    "Classification Report:\n",
    "Precision for class '0': 73%\n",
    "Recall for class '0': 99%\n",
    "Precision for class '1': 33%\n",
    "Recall for class '1': 1%\n",
    "Decision Tree\n",
    "\n",
    "Accuracy: 77.7%\n",
    "Classification Report:\n",
    "Precision for class '0': 85%\n",
    "Recall for class '0': 84%\n",
    "Precision for class '1': 58%\n",
    "Recall for class '1': 60%\n",
    "Naive Bayes\n",
    "\n",
    "Accuracy: 67%\n",
    "Classification Report:\n",
    "Precision for class '0': 74%\n",
    "Recall for class '0': 85%\n",
    "Precision for class '1': 31%\n",
    "Recall for class '1': 19%\n",
    "Support Vector Machine (SVM)\n",
    "\n",
    "Accuracy: 73%\n",
    "Classification Report:\n",
    "Precision for class '0': 73%\n",
    "Recall for class '0': 100%\n",
    "Precision for class '1': 0%\n",
    "Recall for class '1': 0%"
   ]
  },
  {
   "cell_type": "code",
   "execution_count": null,
   "id": "ca444667",
   "metadata": {},
   "outputs": [],
   "source": [
    "#Based on these results, the Decision Tree model performs the best in terms of overall accuracy and balance between precision and recall for both classes"
   ]
  }
 ],
 "metadata": {
  "kernelspec": {
   "display_name": "Python 3 (ipykernel)",
   "language": "python",
   "name": "python3"
  },
  "language_info": {
   "codemirror_mode": {
    "name": "ipython",
    "version": 3
   },
   "file_extension": ".py",
   "mimetype": "text/x-python",
   "name": "python",
   "nbconvert_exporter": "python",
   "pygments_lexer": "ipython3",
   "version": "3.9.12"
  }
 },
 "nbformat": 4,
 "nbformat_minor": 5
}
